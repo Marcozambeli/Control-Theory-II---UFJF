{
  "nbformat": 4,
  "nbformat_minor": 0,
  "metadata": {
    "colab": {
      "name": "Aula_3B_Diagrama_de_Bode_Controle_II.ipynb",
      "provenance": [],
      "collapsed_sections": [],
      "toc_visible": true,
      "include_colab_link": true
    },
    "kernelspec": {
      "name": "python3",
      "display_name": "Python 3"
    }
  },
  "cells": [
    {
      "cell_type": "markdown",
      "metadata": {
        "id": "view-in-github",
        "colab_type": "text"
      },
      "source": [
        "<a href=\"https://colab.research.google.com/github/Marcozambeli/Control-Theory-II---UFJF/blob/master/Aula_3B_Diagrama_de_Bode_Controle_II.ipynb\" target=\"_parent\"><img src=\"https://colab.research.google.com/assets/colab-badge.svg\" alt=\"Open In Colab\"/></a>"
      ]
    },
    {
      "cell_type": "markdown",
      "metadata": {
        "id": "mtL2jNGGqoAq"
      },
      "source": [
        "# Aula 3 - Diagramas de Bode"
      ]
    },
    {
      "cell_type": "markdown",
      "metadata": {
        "id": "TvHp3gPrqq-e"
      },
      "source": [
        "## Fatores de Primeira Ordem \n",
        "\n",
        "$G(s) = \\frac{1}{s+1}$"
      ]
    },
    {
      "cell_type": "code",
      "metadata": {
        "id": "vCjyA6y6ul4Z",
        "outputId": "261fb3e9-d20f-4b75-aab7-c6240f764c7f",
        "colab": {
          "base_uri": "https://localhost:8080/",
          "height": 542
        }
      },
      "source": [
        "import numpy as np\n",
        "from plotly import graph_objects as go\n",
        "from plotly.subplots import make_subplots\n",
        "\n",
        "w_baixo = np.logspace(-4,0,5)\n",
        "w_alto = np.logspace(1,4,4)\n",
        "w = np.concatenate( (w_baixo, w_alto) )\n",
        "\n",
        "# Calcula Aproximacao Assintotica para Modulo de G(jw)\n",
        "\n",
        "gjw_baixo = np.zeros(5, dtype=float)\n",
        "gjw_alto = -20*np.log10(w_alto)\n",
        "gjw = np.concatenate( (gjw_baixo, gjw_alto) )\n",
        "\n",
        "# Calcula Curva Real\n",
        "gjw_real = -20*np.log10( np.sqrt(1+pow(w,2)*1) )\n",
        "\n",
        "figura = make_subplots(specs=[[{\"secondary_y\": True}]])\n",
        "\n",
        "figura.add_trace(go.Scatter(y=gjw,x=w,name=\"Aproximacao Assintotica\"),secondary_y=False)\n",
        "figura.add_trace(go.Scatter(y=gjw_real,x=w,name=\"Curva Real\"),secondary_y=False)\n",
        "\n",
        "figura.update_xaxes(type=\"log\")\n",
        "\n",
        "figura.update_layout(\n",
        "    title=\"Diagrama de Bode\",\n",
        "    xaxis_title=\"Freqüência em rad/s\",\n",
        "    yaxis_title=\"Módulo de $G(j \\omega)$ em dB\"\n",
        ")\n",
        "\n",
        "# Calcula Ângulo\n",
        "\n",
        "phi = -np.arctan(w)*180/np.pi\n",
        "figura.add_trace(go.Scatter(x=w, y=phi, name=\"Angulo de G(jw)\"),secondary_y=True)\n",
        "\n",
        "figura.update_yaxes(title=\"Ângulo de G(jw)\", secondary_y=True)\n",
        "figura.show()\n"
      ],
      "execution_count": null,
      "outputs": [
        {
          "output_type": "display_data",
          "data": {
            "text/html": [
              "<html>\n",
              "<head><meta charset=\"utf-8\" /></head>\n",
              "<body>\n",
              "    <div>\n",
              "            <script src=\"https://cdnjs.cloudflare.com/ajax/libs/mathjax/2.7.5/MathJax.js?config=TeX-AMS-MML_SVG\"></script><script type=\"text/javascript\">if (window.MathJax) {MathJax.Hub.Config({SVG: {font: \"STIX-Web\"}});}</script>\n",
              "                <script type=\"text/javascript\">window.PlotlyConfig = {MathJaxConfig: 'local'};</script>\n",
              "        <script src=\"https://cdn.plot.ly/plotly-latest.min.js\"></script>    \n",
              "            <div id=\"154e7c27-56f4-4154-a33c-ecd61f9d1fff\" class=\"plotly-graph-div\" style=\"height:525px; width:100%;\"></div>\n",
              "            <script type=\"text/javascript\">\n",
              "                \n",
              "                    window.PLOTLYENV=window.PLOTLYENV || {};\n",
              "                    \n",
              "                if (document.getElementById(\"154e7c27-56f4-4154-a33c-ecd61f9d1fff\")) {\n",
              "                    Plotly.newPlot(\n",
              "                        '154e7c27-56f4-4154-a33c-ecd61f9d1fff',\n",
              "                        [{\"name\": \"Aproximacao Assintotica\", \"type\": \"scatter\", \"x\": [0.0001, 0.001, 0.01, 0.1, 1.0, 10.0, 100.0, 1000.0, 10000.0], \"xaxis\": \"x\", \"y\": [0.0, 0.0, 0.0, 0.0, 0.0, -20.0, -40.0, -60.0, -80.0], \"yaxis\": \"y\"}, {\"name\": \"Curva Real\", \"type\": \"scatter\", \"x\": [0.0001, 0.001, 0.01, 0.1, 1.0, 10.0, 100.0, 1000.0, 10000.0], \"xaxis\": \"x\", \"y\": [-4.342944781781034e-08, -4.342942648071539e-06, -0.00043427276862583245, -0.04321373782642508, -3.010299956639812, -20.043213737826427, -40.00043427276863, -60.000004342942646, -80.00000004342945], \"yaxis\": \"y\"}, {\"name\": \"Angulo de G(jw)\", \"type\": \"scatter\", \"x\": [0.0001, 0.001, 0.01, 0.1, 1.0, 10.0, 100.0, 1000.0, 10000.0], \"xaxis\": \"x\", \"y\": [-0.005729577932209639, -0.057295760414500616, -0.5729386976834859, -5.710593137499643, -45.0, -84.28940686250037, -89.42706130231653, -89.94270423958551, -89.99427042206779], \"yaxis\": \"y2\"}],\n",
              "                        {\"template\": {\"data\": {\"bar\": [{\"error_x\": {\"color\": \"#2a3f5f\"}, \"error_y\": {\"color\": \"#2a3f5f\"}, \"marker\": {\"line\": {\"color\": \"#E5ECF6\", \"width\": 0.5}}, \"type\": \"bar\"}], \"barpolar\": [{\"marker\": {\"line\": {\"color\": \"#E5ECF6\", \"width\": 0.5}}, \"type\": \"barpolar\"}], \"carpet\": [{\"aaxis\": {\"endlinecolor\": \"#2a3f5f\", \"gridcolor\": \"white\", \"linecolor\": \"white\", \"minorgridcolor\": \"white\", \"startlinecolor\": \"#2a3f5f\"}, \"baxis\": {\"endlinecolor\": \"#2a3f5f\", \"gridcolor\": \"white\", \"linecolor\": \"white\", \"minorgridcolor\": \"white\", \"startlinecolor\": \"#2a3f5f\"}, \"type\": \"carpet\"}], \"choropleth\": [{\"colorbar\": {\"outlinewidth\": 0, \"ticks\": \"\"}, \"type\": \"choropleth\"}], \"contour\": [{\"colorbar\": {\"outlinewidth\": 0, \"ticks\": \"\"}, \"colorscale\": [[0.0, \"#0d0887\"], [0.1111111111111111, \"#46039f\"], [0.2222222222222222, \"#7201a8\"], [0.3333333333333333, \"#9c179e\"], [0.4444444444444444, \"#bd3786\"], [0.5555555555555556, \"#d8576b\"], [0.6666666666666666, \"#ed7953\"], [0.7777777777777778, \"#fb9f3a\"], [0.8888888888888888, \"#fdca26\"], [1.0, \"#f0f921\"]], \"type\": \"contour\"}], \"contourcarpet\": [{\"colorbar\": {\"outlinewidth\": 0, \"ticks\": \"\"}, \"type\": \"contourcarpet\"}], \"heatmap\": [{\"colorbar\": {\"outlinewidth\": 0, \"ticks\": \"\"}, \"colorscale\": [[0.0, \"#0d0887\"], [0.1111111111111111, \"#46039f\"], [0.2222222222222222, \"#7201a8\"], [0.3333333333333333, \"#9c179e\"], [0.4444444444444444, \"#bd3786\"], [0.5555555555555556, \"#d8576b\"], [0.6666666666666666, \"#ed7953\"], [0.7777777777777778, \"#fb9f3a\"], [0.8888888888888888, \"#fdca26\"], [1.0, \"#f0f921\"]], \"type\": \"heatmap\"}], \"heatmapgl\": [{\"colorbar\": {\"outlinewidth\": 0, \"ticks\": \"\"}, \"colorscale\": [[0.0, \"#0d0887\"], [0.1111111111111111, \"#46039f\"], [0.2222222222222222, \"#7201a8\"], [0.3333333333333333, \"#9c179e\"], [0.4444444444444444, \"#bd3786\"], [0.5555555555555556, \"#d8576b\"], [0.6666666666666666, \"#ed7953\"], [0.7777777777777778, \"#fb9f3a\"], [0.8888888888888888, \"#fdca26\"], [1.0, \"#f0f921\"]], \"type\": \"heatmapgl\"}], \"histogram\": [{\"marker\": {\"colorbar\": {\"outlinewidth\": 0, \"ticks\": \"\"}}, \"type\": \"histogram\"}], \"histogram2d\": [{\"colorbar\": {\"outlinewidth\": 0, \"ticks\": \"\"}, \"colorscale\": [[0.0, \"#0d0887\"], [0.1111111111111111, \"#46039f\"], [0.2222222222222222, \"#7201a8\"], [0.3333333333333333, \"#9c179e\"], [0.4444444444444444, \"#bd3786\"], [0.5555555555555556, \"#d8576b\"], [0.6666666666666666, \"#ed7953\"], [0.7777777777777778, \"#fb9f3a\"], [0.8888888888888888, \"#fdca26\"], [1.0, \"#f0f921\"]], \"type\": \"histogram2d\"}], \"histogram2dcontour\": [{\"colorbar\": {\"outlinewidth\": 0, \"ticks\": \"\"}, \"colorscale\": [[0.0, \"#0d0887\"], [0.1111111111111111, \"#46039f\"], [0.2222222222222222, \"#7201a8\"], [0.3333333333333333, \"#9c179e\"], [0.4444444444444444, \"#bd3786\"], [0.5555555555555556, \"#d8576b\"], [0.6666666666666666, \"#ed7953\"], [0.7777777777777778, \"#fb9f3a\"], [0.8888888888888888, \"#fdca26\"], [1.0, \"#f0f921\"]], \"type\": \"histogram2dcontour\"}], \"mesh3d\": [{\"colorbar\": {\"outlinewidth\": 0, \"ticks\": \"\"}, \"type\": \"mesh3d\"}], \"parcoords\": [{\"line\": {\"colorbar\": {\"outlinewidth\": 0, \"ticks\": \"\"}}, \"type\": \"parcoords\"}], \"pie\": [{\"automargin\": true, \"type\": \"pie\"}], \"scatter\": [{\"marker\": {\"colorbar\": {\"outlinewidth\": 0, \"ticks\": \"\"}}, \"type\": \"scatter\"}], \"scatter3d\": [{\"line\": {\"colorbar\": {\"outlinewidth\": 0, \"ticks\": \"\"}}, \"marker\": {\"colorbar\": {\"outlinewidth\": 0, \"ticks\": \"\"}}, \"type\": \"scatter3d\"}], \"scattercarpet\": [{\"marker\": {\"colorbar\": {\"outlinewidth\": 0, \"ticks\": \"\"}}, \"type\": \"scattercarpet\"}], \"scattergeo\": [{\"marker\": {\"colorbar\": {\"outlinewidth\": 0, \"ticks\": \"\"}}, \"type\": \"scattergeo\"}], \"scattergl\": [{\"marker\": {\"colorbar\": {\"outlinewidth\": 0, \"ticks\": \"\"}}, \"type\": \"scattergl\"}], \"scattermapbox\": [{\"marker\": {\"colorbar\": {\"outlinewidth\": 0, \"ticks\": \"\"}}, \"type\": \"scattermapbox\"}], \"scatterpolar\": [{\"marker\": {\"colorbar\": {\"outlinewidth\": 0, \"ticks\": \"\"}}, \"type\": \"scatterpolar\"}], \"scatterpolargl\": [{\"marker\": {\"colorbar\": {\"outlinewidth\": 0, \"ticks\": \"\"}}, \"type\": \"scatterpolargl\"}], \"scatterternary\": [{\"marker\": {\"colorbar\": {\"outlinewidth\": 0, \"ticks\": \"\"}}, \"type\": \"scatterternary\"}], \"surface\": [{\"colorbar\": {\"outlinewidth\": 0, \"ticks\": \"\"}, \"colorscale\": [[0.0, \"#0d0887\"], [0.1111111111111111, \"#46039f\"], [0.2222222222222222, \"#7201a8\"], [0.3333333333333333, \"#9c179e\"], [0.4444444444444444, \"#bd3786\"], [0.5555555555555556, \"#d8576b\"], [0.6666666666666666, \"#ed7953\"], [0.7777777777777778, \"#fb9f3a\"], [0.8888888888888888, \"#fdca26\"], [1.0, \"#f0f921\"]], \"type\": \"surface\"}], \"table\": [{\"cells\": {\"fill\": {\"color\": \"#EBF0F8\"}, \"line\": {\"color\": \"white\"}}, \"header\": {\"fill\": {\"color\": \"#C8D4E3\"}, \"line\": {\"color\": \"white\"}}, \"type\": \"table\"}]}, \"layout\": {\"annotationdefaults\": {\"arrowcolor\": \"#2a3f5f\", \"arrowhead\": 0, \"arrowwidth\": 1}, \"coloraxis\": {\"colorbar\": {\"outlinewidth\": 0, \"ticks\": \"\"}}, \"colorscale\": {\"diverging\": [[0, \"#8e0152\"], [0.1, \"#c51b7d\"], [0.2, \"#de77ae\"], [0.3, \"#f1b6da\"], [0.4, \"#fde0ef\"], [0.5, \"#f7f7f7\"], [0.6, \"#e6f5d0\"], [0.7, \"#b8e186\"], [0.8, \"#7fbc41\"], [0.9, \"#4d9221\"], [1, \"#276419\"]], \"sequential\": [[0.0, \"#0d0887\"], [0.1111111111111111, \"#46039f\"], [0.2222222222222222, \"#7201a8\"], [0.3333333333333333, \"#9c179e\"], [0.4444444444444444, \"#bd3786\"], [0.5555555555555556, \"#d8576b\"], [0.6666666666666666, \"#ed7953\"], [0.7777777777777778, \"#fb9f3a\"], [0.8888888888888888, \"#fdca26\"], [1.0, \"#f0f921\"]], \"sequentialminus\": [[0.0, \"#0d0887\"], [0.1111111111111111, \"#46039f\"], [0.2222222222222222, \"#7201a8\"], [0.3333333333333333, \"#9c179e\"], [0.4444444444444444, \"#bd3786\"], [0.5555555555555556, \"#d8576b\"], [0.6666666666666666, \"#ed7953\"], [0.7777777777777778, \"#fb9f3a\"], [0.8888888888888888, \"#fdca26\"], [1.0, \"#f0f921\"]]}, \"colorway\": [\"#636efa\", \"#EF553B\", \"#00cc96\", \"#ab63fa\", \"#FFA15A\", \"#19d3f3\", \"#FF6692\", \"#B6E880\", \"#FF97FF\", \"#FECB52\"], \"font\": {\"color\": \"#2a3f5f\"}, \"geo\": {\"bgcolor\": \"white\", \"lakecolor\": \"white\", \"landcolor\": \"#E5ECF6\", \"showlakes\": true, \"showland\": true, \"subunitcolor\": \"white\"}, \"hoverlabel\": {\"align\": \"left\"}, \"hovermode\": \"closest\", \"mapbox\": {\"style\": \"light\"}, \"paper_bgcolor\": \"white\", \"plot_bgcolor\": \"#E5ECF6\", \"polar\": {\"angularaxis\": {\"gridcolor\": \"white\", \"linecolor\": \"white\", \"ticks\": \"\"}, \"bgcolor\": \"#E5ECF6\", \"radialaxis\": {\"gridcolor\": \"white\", \"linecolor\": \"white\", \"ticks\": \"\"}}, \"scene\": {\"xaxis\": {\"backgroundcolor\": \"#E5ECF6\", \"gridcolor\": \"white\", \"gridwidth\": 2, \"linecolor\": \"white\", \"showbackground\": true, \"ticks\": \"\", \"zerolinecolor\": \"white\"}, \"yaxis\": {\"backgroundcolor\": \"#E5ECF6\", \"gridcolor\": \"white\", \"gridwidth\": 2, \"linecolor\": \"white\", \"showbackground\": true, \"ticks\": \"\", \"zerolinecolor\": \"white\"}, \"zaxis\": {\"backgroundcolor\": \"#E5ECF6\", \"gridcolor\": \"white\", \"gridwidth\": 2, \"linecolor\": \"white\", \"showbackground\": true, \"ticks\": \"\", \"zerolinecolor\": \"white\"}}, \"shapedefaults\": {\"line\": {\"color\": \"#2a3f5f\"}}, \"ternary\": {\"aaxis\": {\"gridcolor\": \"white\", \"linecolor\": \"white\", \"ticks\": \"\"}, \"baxis\": {\"gridcolor\": \"white\", \"linecolor\": \"white\", \"ticks\": \"\"}, \"bgcolor\": \"#E5ECF6\", \"caxis\": {\"gridcolor\": \"white\", \"linecolor\": \"white\", \"ticks\": \"\"}}, \"title\": {\"x\": 0.05}, \"xaxis\": {\"automargin\": true, \"gridcolor\": \"white\", \"linecolor\": \"white\", \"ticks\": \"\", \"title\": {\"standoff\": 15}, \"zerolinecolor\": \"white\", \"zerolinewidth\": 2}, \"yaxis\": {\"automargin\": true, \"gridcolor\": \"white\", \"linecolor\": \"white\", \"ticks\": \"\", \"title\": {\"standoff\": 15}, \"zerolinecolor\": \"white\", \"zerolinewidth\": 2}}}, \"title\": {\"text\": \"Diagrama de Bode\"}, \"xaxis\": {\"anchor\": \"y\", \"domain\": [0.0, 0.94], \"title\": {\"text\": \"Freq\\u00fc\\u00eancia em rad/s\"}, \"type\": \"log\"}, \"yaxis\": {\"anchor\": \"x\", \"domain\": [0.0, 1.0], \"title\": {\"text\": \"M\\u00f3dulo de $G(j \\\\omega)$ em dB\"}}, \"yaxis2\": {\"anchor\": \"x\", \"overlaying\": \"y\", \"side\": \"right\", \"title\": {\"text\": \"\\u00c2ngulo de G(jw)\"}}},\n",
              "                        {\"responsive\": true}\n",
              "                    ).then(function(){\n",
              "                            \n",
              "var gd = document.getElementById('154e7c27-56f4-4154-a33c-ecd61f9d1fff');\n",
              "var x = new MutationObserver(function (mutations, observer) {{\n",
              "        var display = window.getComputedStyle(gd).display;\n",
              "        if (!display || display === 'none') {{\n",
              "            console.log([gd, 'removed!']);\n",
              "            Plotly.purge(gd);\n",
              "            observer.disconnect();\n",
              "        }}\n",
              "}});\n",
              "\n",
              "// Listen for the removal of the full notebook cells\n",
              "var notebookContainer = gd.closest('#notebook-container');\n",
              "if (notebookContainer) {{\n",
              "    x.observe(notebookContainer, {childList: true});\n",
              "}}\n",
              "\n",
              "// Listen for the clearing of the current output cell\n",
              "var outputEl = gd.closest('.output');\n",
              "if (outputEl) {{\n",
              "    x.observe(outputEl, {childList: true});\n",
              "}}\n",
              "\n",
              "                        })\n",
              "                };\n",
              "                \n",
              "            </script>\n",
              "        </div>\n",
              "</body>\n",
              "</html>"
            ]
          },
          "metadata": {
            "tags": []
          }
        }
      ]
    },
    {
      "cell_type": "code",
      "metadata": {
        "id": "kTw-MbdfuZLj",
        "outputId": "9884bad3-5320-4d6d-b5f8-225998746d98",
        "colab": {
          "base_uri": "https://localhost:8080/",
          "height": 352
        }
      },
      "source": [
        "!pip install control"
      ],
      "execution_count": null,
      "outputs": [
        {
          "output_type": "stream",
          "text": [
            "Collecting control\n",
            "\u001b[?25l  Downloading https://files.pythonhosted.org/packages/e8/b0/32a903138505dd4ea523f8a3fc156c4272aa58b10100ef24ff74ced2fae8/control-0.8.3.tar.gz (249kB)\n",
            "\r\u001b[K     |█▎                              | 10kB 19.1MB/s eta 0:00:01\r\u001b[K     |██▋                             | 20kB 1.8MB/s eta 0:00:01\r\u001b[K     |████                            | 30kB 2.3MB/s eta 0:00:01\r\u001b[K     |█████▎                          | 40kB 2.6MB/s eta 0:00:01\r\u001b[K     |██████▋                         | 51kB 2.0MB/s eta 0:00:01\r\u001b[K     |███████▉                        | 61kB 2.3MB/s eta 0:00:01\r\u001b[K     |█████████▏                      | 71kB 2.5MB/s eta 0:00:01\r\u001b[K     |██████████▌                     | 81kB 2.7MB/s eta 0:00:01\r\u001b[K     |███████████▉                    | 92kB 2.9MB/s eta 0:00:01\r\u001b[K     |█████████████▏                  | 102kB 2.8MB/s eta 0:00:01\r\u001b[K     |██████████████▍                 | 112kB 2.8MB/s eta 0:00:01\r\u001b[K     |███████████████▊                | 122kB 2.8MB/s eta 0:00:01\r\u001b[K     |█████████████████               | 133kB 2.8MB/s eta 0:00:01\r\u001b[K     |██████████████████▍             | 143kB 2.8MB/s eta 0:00:01\r\u001b[K     |███████████████████▊            | 153kB 2.8MB/s eta 0:00:01\r\u001b[K     |█████████████████████           | 163kB 2.8MB/s eta 0:00:01\r\u001b[K     |██████████████████████▎         | 174kB 2.8MB/s eta 0:00:01\r\u001b[K     |███████████████████████▋        | 184kB 2.8MB/s eta 0:00:01\r\u001b[K     |█████████████████████████       | 194kB 2.8MB/s eta 0:00:01\r\u001b[K     |██████████████████████████▎     | 204kB 2.8MB/s eta 0:00:01\r\u001b[K     |███████████████████████████▋    | 215kB 2.8MB/s eta 0:00:01\r\u001b[K     |████████████████████████████▉   | 225kB 2.8MB/s eta 0:00:01\r\u001b[K     |██████████████████████████████▏ | 235kB 2.8MB/s eta 0:00:01\r\u001b[K     |███████████████████████████████▌| 245kB 2.8MB/s eta 0:00:01\r\u001b[K     |████████████████████████████████| 256kB 2.8MB/s \n",
            "\u001b[?25hRequirement already satisfied: numpy in /usr/local/lib/python3.6/dist-packages (from control) (1.18.5)\n",
            "Requirement already satisfied: scipy in /usr/local/lib/python3.6/dist-packages (from control) (1.4.1)\n",
            "Requirement already satisfied: matplotlib in /usr/local/lib/python3.6/dist-packages (from control) (3.2.2)\n",
            "Requirement already satisfied: cycler>=0.10 in /usr/local/lib/python3.6/dist-packages (from matplotlib->control) (0.10.0)\n",
            "Requirement already satisfied: pyparsing!=2.0.4,!=2.1.2,!=2.1.6,>=2.0.1 in /usr/local/lib/python3.6/dist-packages (from matplotlib->control) (2.4.7)\n",
            "Requirement already satisfied: python-dateutil>=2.1 in /usr/local/lib/python3.6/dist-packages (from matplotlib->control) (2.8.1)\n",
            "Requirement already satisfied: kiwisolver>=1.0.1 in /usr/local/lib/python3.6/dist-packages (from matplotlib->control) (1.2.0)\n",
            "Requirement already satisfied: six in /usr/local/lib/python3.6/dist-packages (from cycler>=0.10->matplotlib->control) (1.15.0)\n",
            "Building wheels for collected packages: control\n",
            "  Building wheel for control (setup.py) ... \u001b[?25l\u001b[?25hdone\n",
            "  Created wheel for control: filename=control-0.8.3-py2.py3-none-any.whl size=260982 sha256=0a760b170e99772562a8943afa79a03972706e378ff77cc70a383492b41424d1\n",
            "  Stored in directory: /root/.cache/pip/wheels/c2/d9/cc/90b28cb139a6320a3af2285428b6da87eee8d8920c78bb0223\n",
            "Successfully built control\n",
            "Installing collected packages: control\n",
            "Successfully installed control-0.8.3\n"
          ],
          "name": "stdout"
        }
      ]
    },
    {
      "cell_type": "code",
      "metadata": {
        "id": "UxgcywaC3c4r",
        "outputId": "13b25581-72fe-47bb-8bfa-dbb44c66b41d",
        "colab": {
          "base_uri": "https://localhost:8080/",
          "height": 356
        }
      },
      "source": [
        "!pip install control"
      ],
      "execution_count": null,
      "outputs": [
        {
          "output_type": "stream",
          "text": [
            "Collecting control\n",
            "\u001b[?25l  Downloading https://files.pythonhosted.org/packages/e8/b0/32a903138505dd4ea523f8a3fc156c4272aa58b10100ef24ff74ced2fae8/control-0.8.3.tar.gz (249kB)\n",
            "\r\u001b[K     |█▎                              | 10kB 8.2MB/s eta 0:00:01\r\u001b[K     |██▋                             | 20kB 1.6MB/s eta 0:00:01\r\u001b[K     |████                            | 30kB 2.1MB/s eta 0:00:01\r\u001b[K     |█████▎                          | 40kB 2.3MB/s eta 0:00:01\r\u001b[K     |██████▋                         | 51kB 1.9MB/s eta 0:00:01\r\u001b[K     |███████▉                        | 61kB 2.1MB/s eta 0:00:01\r\u001b[K     |█████████▏                      | 71kB 2.4MB/s eta 0:00:01\r\u001b[K     |██████████▌                     | 81kB 2.5MB/s eta 0:00:01\r\u001b[K     |███████████▉                    | 92kB 2.7MB/s eta 0:00:01\r\u001b[K     |█████████████▏                  | 102kB 2.6MB/s eta 0:00:01\r\u001b[K     |██████████████▍                 | 112kB 2.6MB/s eta 0:00:01\r\u001b[K     |███████████████▊                | 122kB 2.6MB/s eta 0:00:01\r\u001b[K     |█████████████████               | 133kB 2.6MB/s eta 0:00:01\r\u001b[K     |██████████████████▍             | 143kB 2.6MB/s eta 0:00:01\r\u001b[K     |███████████████████▊            | 153kB 2.6MB/s eta 0:00:01\r\u001b[K     |█████████████████████           | 163kB 2.6MB/s eta 0:00:01\r\u001b[K     |██████████████████████▎         | 174kB 2.6MB/s eta 0:00:01\r\u001b[K     |███████████████████████▋        | 184kB 2.6MB/s eta 0:00:01\r\u001b[K     |█████████████████████████       | 194kB 2.6MB/s eta 0:00:01\r\u001b[K     |██████████████████████████▎     | 204kB 2.6MB/s eta 0:00:01\r\u001b[K     |███████████████████████████▋    | 215kB 2.6MB/s eta 0:00:01\r\u001b[K     |████████████████████████████▉   | 225kB 2.6MB/s eta 0:00:01\r\u001b[K     |██████████████████████████████▏ | 235kB 2.6MB/s eta 0:00:01\r\u001b[K     |███████████████████████████████▌| 245kB 2.6MB/s eta 0:00:01\r\u001b[K     |████████████████████████████████| 256kB 2.6MB/s \n",
            "\u001b[?25hRequirement already satisfied: numpy in /usr/local/lib/python3.6/dist-packages (from control) (1.18.5)\n",
            "Requirement already satisfied: scipy in /usr/local/lib/python3.6/dist-packages (from control) (1.4.1)\n",
            "Requirement already satisfied: matplotlib in /usr/local/lib/python3.6/dist-packages (from control) (3.2.2)\n",
            "Requirement already satisfied: python-dateutil>=2.1 in /usr/local/lib/python3.6/dist-packages (from matplotlib->control) (2.8.1)\n",
            "Requirement already satisfied: pyparsing!=2.0.4,!=2.1.2,!=2.1.6,>=2.0.1 in /usr/local/lib/python3.6/dist-packages (from matplotlib->control) (2.4.7)\n",
            "Requirement already satisfied: cycler>=0.10 in /usr/local/lib/python3.6/dist-packages (from matplotlib->control) (0.10.0)\n",
            "Requirement already satisfied: kiwisolver>=1.0.1 in /usr/local/lib/python3.6/dist-packages (from matplotlib->control) (1.2.0)\n",
            "Requirement already satisfied: six>=1.5 in /usr/local/lib/python3.6/dist-packages (from python-dateutil>=2.1->matplotlib->control) (1.15.0)\n",
            "Building wheels for collected packages: control\n",
            "  Building wheel for control (setup.py) ... \u001b[?25l\u001b[?25hdone\n",
            "  Created wheel for control: filename=control-0.8.3-py2.py3-none-any.whl size=260982 sha256=a9cd7d0d70ce5f28e3861012cb0d215d239786a8bc785353c27633631513221e\n",
            "  Stored in directory: /root/.cache/pip/wheels/c2/d9/cc/90b28cb139a6320a3af2285428b6da87eee8d8920c78bb0223\n",
            "Successfully built control\n",
            "Installing collected packages: control\n",
            "Successfully installed control-0.8.3\n"
          ],
          "name": "stdout"
        }
      ]
    },
    {
      "cell_type": "markdown",
      "metadata": {
        "id": "MsKczGxRoWnd"
      },
      "source": [
        "## Fatores Quadrádicos\n",
        "\n",
        "$G(s)= \\frac{\\omega_n^2}{s^2+2\\zeta\\omega_ns+\\omega_n^2}$"
      ]
    },
    {
      "cell_type": "code",
      "metadata": {
        "id": "UifgRb_FykBL",
        "outputId": "4c3e999f-da5c-43fa-e6b3-3a04a2398b3d",
        "colab": {
          "base_uri": "https://localhost:8080/",
          "height": 1000
        }
      },
      "source": [
        "import numpy as np\n",
        "from plotly import graph_objects as go\n",
        "from plotly.subplots import make_subplots\n",
        "from control import *\n",
        "\n",
        "wn = 1\n",
        "qsi = 0.3\n",
        "\n",
        "w_baixo = np.logspace(-1,0,50)\n",
        "w_alto = np.logspace(0,2,50)\n",
        "w = np.concatenate( (w_baixo, w_alto) )\n",
        "\n",
        "# Calcula Aproximacao Assintotica para Modulo de G(jw)\n",
        "\n",
        "gjw_baixo = np.zeros(50, dtype=float)\n",
        "gjw_alto = -40*np.log10(w_alto/wn)\n",
        "gjw = np.concatenate( (gjw_baixo, gjw_alto) )\n",
        "\n",
        "# Calcula Curva Real (utilizando a biblioteca control)\n",
        "\n",
        "num = [ wn**2]\n",
        "den = [ 1, 2*qsi*wn, wn**2]\n",
        "gs=tf(num,den)\n",
        "gjw_real = bode(gs)\n",
        "mag = gjw_real[0]\n",
        "magdB = 20*np.log10(mag)\n",
        "fase = gjw_real[1]*180/np.pi\n",
        "w_novo = gjw_real[2]\n",
        "\n",
        "figura = make_subplots(specs=[[{\"secondary_y\": True}]])\n",
        "\n",
        "figura.add_trace(go.Scatter(y=gjw,x=w,name=\"Aproximacao Assintotica\"),secondary_y=False)\n",
        "figura.add_trace(go.Scatter(y=magdB,x=w_novo,name=\"Curva Real\"),secondary_y=False)\n",
        "\n",
        "figura.update_xaxes(type=\"log\")\n",
        "\n",
        "figura.update_layout(\n",
        "    title=\"Diagrama de Bode\",\n",
        "    xaxis_title=\"Freqüência em rad/s\",\n",
        "    yaxis_title=\"Módulo de $G(j \\omega)$ em dB\"\n",
        ")\n",
        "\n",
        "# Calcula Ângulo\n",
        "\n",
        "figura.add_trace(go.Scatter(x=w_novo, y=fase, name=\"Angulo de G(jw)\"),secondary_y=True)\n",
        "\n",
        "figura.update_yaxes(title=\"Ângulo de G(jw)\", secondary_y=True)\n",
        "figura.show()\n",
        "\n"
      ],
      "execution_count": null,
      "outputs": [
        {
          "output_type": "display_data",
          "data": {
            "text/html": [
              "<html>\n",
              "<head><meta charset=\"utf-8\" /></head>\n",
              "<body>\n",
              "    <div>\n",
              "            <script src=\"https://cdnjs.cloudflare.com/ajax/libs/mathjax/2.7.5/MathJax.js?config=TeX-AMS-MML_SVG\"></script><script type=\"text/javascript\">if (window.MathJax) {MathJax.Hub.Config({SVG: {font: \"STIX-Web\"}});}</script>\n",
              "                <script type=\"text/javascript\">window.PlotlyConfig = {MathJaxConfig: 'local'};</script>\n",
              "        <script src=\"https://cdn.plot.ly/plotly-latest.min.js\"></script>    \n",
              "            <div id=\"a8f68dbb-a410-4032-abfc-df2f2a2e7028\" class=\"plotly-graph-div\" style=\"height:525px; width:100%;\"></div>\n",
              "            <script type=\"text/javascript\">\n",
              "                \n",
              "                    window.PLOTLYENV=window.PLOTLYENV || {};\n",
              "                    \n",
              "                if (document.getElementById(\"a8f68dbb-a410-4032-abfc-df2f2a2e7028\")) {\n",
              "                    Plotly.newPlot(\n",
              "                        'a8f68dbb-a410-4032-abfc-df2f2a2e7028',\n",
              "                        [{\"name\": \"Aproximacao Assintotica\", \"type\": \"scatter\", \"x\": [0.1, 0.10481131341546858, 0.10985411419875583, 0.11513953993264472, 0.12067926406393285, 0.12648552168552962, 0.13257113655901093, 0.13894954943731375, 0.14563484775012436, 0.15264179671752334, 0.15998587196060582, 0.16768329368110083, 0.1757510624854792, 0.1842069969326716, 0.193069772888325, 0.20235896477251566, 0.21209508879201905, 0.22229964825261944, 0.2329951810515372, 0.2442053094548651, 0.2559547922699536, 0.2682695795279726, 0.281176869797423, 0.29470517025518106, 0.3088843596477481, 0.3237457542817644, 0.3393221771895328, 0.35564803062231287, 0.372759372031494, 0.3906939937054617, 0.4094915062380424, 0.42919342601287774, 0.44984326689694454, 0.47148663634573934, 0.49417133613238345, 0.517947467923121, 0.5428675439323859, 0.5689866029018296, 0.5963623316594643, 0.6250551925273972, 0.6551285568595507, 0.6866488450043, 0.7196856730011519, 0.7543120063354617, 0.7906043210907697, 0.8286427728546842, 0.8685113737513525, 0.9102981779915218, 0.9540954763499939, 1.0, 1.0, 1.0985411419875581, 1.2067926406393286, 1.3257113655901092, 1.4563484775012439, 1.599858719606058, 1.7575106248547918, 1.93069772888325, 2.120950887920191, 2.329951810515372, 2.5595479226995357, 2.8117686979742302, 3.088843596477481, 3.393221771895328, 3.72759372031494, 4.094915062380425, 4.498432668969445, 4.941713361323834, 5.428675439323859, 5.963623316594643, 6.551285568595508, 7.196856730011519, 7.906043210907698, 8.685113737513525, 9.54095476349994, 10.481131341546858, 11.513953993264469, 12.648552168552959, 13.894954943731374, 15.264179671752334, 16.768329368110074, 18.420699693267153, 20.235896477251565, 22.229964825261945, 24.42053094548651, 26.826957952797247, 29.4705170255181, 32.374575428176435, 35.564803062231285, 39.06939937054615, 42.91934260128776, 47.14866363457392, 51.7947467923121, 56.89866029018296, 62.505519252739695, 68.66488450042998, 75.43120063354615, 82.86427728546842, 91.02981779915217, 100.0], \"xaxis\": \"x\", \"y\": [0.0, 0.0, 0.0, 0.0, 0.0, 0.0, 0.0, 0.0, 0.0, 0.0, 0.0, 0.0, 0.0, 0.0, 0.0, 0.0, 0.0, 0.0, 0.0, 0.0, 0.0, 0.0, 0.0, 0.0, 0.0, 0.0, 0.0, 0.0, 0.0, 0.0, 0.0, 0.0, 0.0, 0.0, 0.0, 0.0, 0.0, 0.0, 0.0, 0.0, 0.0, 0.0, 0.0, 0.0, 0.0, 0.0, 0.0, 0.0, 0.0, 0.0, -0.0, -1.632653061224488, -3.2653061224489783, -4.8979591836734695, -6.530612244897959, -8.163265306122447, -9.795918367346937, -11.428571428571425, -13.061224489795919, -14.693877551020408, -16.3265306122449, -17.959183673469386, -19.591836734693878, -21.224489795918366, -22.857142857142854, -24.489795918367342, -26.122448979591834, -27.755102040816325, -29.387755102040813, -31.020408163265305, -32.65306122448979, -34.285714285714285, -35.91836734693877, -37.55102040816326, -39.183673469387756, -40.816326530612244, -42.44897959183673, -44.08163265306122, -45.71428571428571, -47.3469387755102, -48.979591836734684, -50.61224489795918, -52.24489795918367, -53.87755102040816, -55.51020408163265, -57.14285714285714, -58.77551020408163, -60.408163265306115, -62.04081632653061, -63.67346938775509, -65.30612244897958, -66.93877551020408, -68.57142857142857, -70.20408163265306, -71.83673469387755, -73.46938775510203, -75.10204081632652, -76.73469387755102, -78.36734693877551, -80.0], \"yaxis\": \"y\"}, {\"name\": \"Curva Real\", \"type\": \"scatter\", \"x\": [0.1, 0.10985411419875583, 0.12067926406393285, 0.13257113655901093, 0.14563484775012436, 0.15998587196060582, 0.1757510624854792, 0.193069772888325, 0.21209508879201905, 0.2329951810515372, 0.2559547922699536, 0.281176869797423, 0.3088843596477481, 0.3393221771895328, 0.372759372031494, 0.4094915062380424, 0.44984326689694454, 0.49417133613238345, 0.5428675439323859, 0.5963623316594643, 0.6551285568595507, 0.7196856730011519, 0.7906043210907697, 0.8685113737513525, 0.9540954763499939, 1.0481131341546859, 1.151395399326447, 1.2648552168552958, 1.3894954943731375, 1.5264179671752334, 1.6768329368110073, 1.8420699693267153, 2.0235896477251565, 2.2229964825261943, 2.442053094548651, 2.6826957952797246, 2.9470517025518097, 3.2374575428176433, 3.5564803062231287, 3.9069399370546147, 4.291934260128776, 4.714866363457392, 5.17947467923121, 5.689866029018296, 6.25055192527397, 6.866488450042998, 7.543120063354615, 8.286427728546842, 9.102981779915218, 10.0], \"xaxis\": \"x\", \"y\": [0.07137328610972252, 0.08616970487883441, 0.1040426429898259, 0.12563583190946742, 0.15172947488094976, 0.18326993004249265, 0.2214061411440182, 0.26753443846739855, 0.32335372471425183, 0.3909335133631707, 0.4727977546387955, 0.5720277297059293, 0.692387164435667, 0.838471254588244, 1.0158764708938954, 1.2313749980815722, 1.4930448934046912, 1.8102264487427164, 2.1929778536117315, 2.650220490575294, 3.1846048823480846, 3.779562744462221, 4.369896815052683, 4.789732348585252, 4.7397911387869405, 3.9234646081746956, 2.340752756748525, 0.28826416199146454, -1.9347229698234911, -4.16233389316212, -6.329371346159388, -8.41926704434744, -10.434671510440952, -12.384506127003467, -14.27882908355108, -16.12698067196324, -17.93703894949338, -19.715776100870453, -21.468788596824684, -23.200671633116293, -24.915188935616413, -26.615421785489822, -28.30389413296117, -29.982675491509035, -31.65346476383505, -33.31765828022108, -34.97640498441706, -36.63065123456119, -38.28117723389668, -39.928626713890274], \"yaxis\": \"y\"}, {\"name\": \"Angulo de G(jw)\", \"type\": \"scatter\", \"x\": [0.1, 0.10985411419875583, 0.12067926406393285, 0.13257113655901093, 0.14563484775012436, 0.15998587196060582, 0.1757510624854792, 0.193069772888325, 0.21209508879201905, 0.2329951810515372, 0.2559547922699536, 0.281176869797423, 0.3088843596477481, 0.3393221771895328, 0.372759372031494, 0.4094915062380424, 0.44984326689694454, 0.49417133613238345, 0.5428675439323859, 0.5963623316594643, 0.6551285568595507, 0.7196856730011519, 0.7906043210907697, 0.8685113737513525, 0.9540954763499939, 1.0481131341546859, 1.151395399326447, 1.2648552168552958, 1.3894954943731375, 1.5264179671752334, 1.6768329368110073, 1.8420699693267153, 2.0235896477251565, 2.2229964825261943, 2.442053094548651, 2.6826957952797246, 2.9470517025518097, 3.2374575428176433, 3.5564803062231287, 3.9069399370546147, 4.291934260128776, 4.714866363457392, 5.17947467923121, 5.689866029018296, 6.25055192527397, 6.866488450042998, 7.543120063354615, 8.286427728546842, 9.102981779915218, 10.0], \"xaxis\": \"x\", \"y\": [-3.468229258917148, -3.8169808469442565, -4.202407154637357, -4.628893533410807, -5.10152065615709, -5.626226124338171, -6.210016935654657, -6.861252157833509, -7.590023679402348, -8.408675770690463, -9.332523923755414, -10.380864261372425, -11.57841382244912, -12.95740140396299, -14.560659331736192, -16.44628456870417, -18.69480309733063, -21.420375734181956, -24.78852226128067, -29.044008692851403, -34.55264128981968, -41.85324081628104, -51.67651539748061, -64.75737044736738, -81.09439224915945, -98.90560775084049, -115.2426295526325, -128.32348460251927, -138.14675918371893, -145.44735871018028, -150.95599130714854, -155.21147773871928, -158.579624265818, -161.30519690266937, -163.5537154312958, -165.4393406682638, -167.042598596037, -168.42158617755086, -169.61913573862756, -170.66747607624455, -171.59132422930958, -172.40997632059762, -173.13874784216648, -173.78998306434534, -174.37377387566184, -174.89847934384287, -175.3711064665892, -175.79759284536266, -176.18301915305574, -176.53177074108285], \"yaxis\": \"y2\"}],\n",
              "                        {\"template\": {\"data\": {\"bar\": [{\"error_x\": {\"color\": \"#2a3f5f\"}, \"error_y\": {\"color\": \"#2a3f5f\"}, \"marker\": {\"line\": {\"color\": \"#E5ECF6\", \"width\": 0.5}}, \"type\": \"bar\"}], \"barpolar\": [{\"marker\": {\"line\": {\"color\": \"#E5ECF6\", \"width\": 0.5}}, \"type\": \"barpolar\"}], \"carpet\": [{\"aaxis\": {\"endlinecolor\": \"#2a3f5f\", \"gridcolor\": \"white\", \"linecolor\": \"white\", \"minorgridcolor\": \"white\", \"startlinecolor\": \"#2a3f5f\"}, \"baxis\": {\"endlinecolor\": \"#2a3f5f\", \"gridcolor\": \"white\", \"linecolor\": \"white\", \"minorgridcolor\": \"white\", \"startlinecolor\": \"#2a3f5f\"}, \"type\": \"carpet\"}], \"choropleth\": [{\"colorbar\": {\"outlinewidth\": 0, \"ticks\": \"\"}, \"type\": \"choropleth\"}], \"contour\": [{\"colorbar\": {\"outlinewidth\": 0, \"ticks\": \"\"}, \"colorscale\": [[0.0, \"#0d0887\"], [0.1111111111111111, \"#46039f\"], [0.2222222222222222, \"#7201a8\"], [0.3333333333333333, \"#9c179e\"], [0.4444444444444444, \"#bd3786\"], [0.5555555555555556, \"#d8576b\"], [0.6666666666666666, \"#ed7953\"], [0.7777777777777778, \"#fb9f3a\"], [0.8888888888888888, \"#fdca26\"], [1.0, \"#f0f921\"]], \"type\": \"contour\"}], \"contourcarpet\": [{\"colorbar\": {\"outlinewidth\": 0, \"ticks\": \"\"}, \"type\": \"contourcarpet\"}], \"heatmap\": [{\"colorbar\": {\"outlinewidth\": 0, \"ticks\": \"\"}, \"colorscale\": [[0.0, \"#0d0887\"], [0.1111111111111111, \"#46039f\"], [0.2222222222222222, \"#7201a8\"], [0.3333333333333333, \"#9c179e\"], [0.4444444444444444, \"#bd3786\"], [0.5555555555555556, \"#d8576b\"], [0.6666666666666666, \"#ed7953\"], [0.7777777777777778, \"#fb9f3a\"], [0.8888888888888888, \"#fdca26\"], [1.0, \"#f0f921\"]], \"type\": \"heatmap\"}], \"heatmapgl\": [{\"colorbar\": {\"outlinewidth\": 0, \"ticks\": \"\"}, \"colorscale\": [[0.0, \"#0d0887\"], [0.1111111111111111, \"#46039f\"], [0.2222222222222222, \"#7201a8\"], [0.3333333333333333, \"#9c179e\"], [0.4444444444444444, \"#bd3786\"], [0.5555555555555556, \"#d8576b\"], [0.6666666666666666, \"#ed7953\"], [0.7777777777777778, \"#fb9f3a\"], [0.8888888888888888, \"#fdca26\"], [1.0, \"#f0f921\"]], \"type\": \"heatmapgl\"}], \"histogram\": [{\"marker\": {\"colorbar\": {\"outlinewidth\": 0, \"ticks\": \"\"}}, \"type\": \"histogram\"}], \"histogram2d\": [{\"colorbar\": {\"outlinewidth\": 0, \"ticks\": \"\"}, \"colorscale\": [[0.0, \"#0d0887\"], [0.1111111111111111, \"#46039f\"], [0.2222222222222222, \"#7201a8\"], [0.3333333333333333, \"#9c179e\"], [0.4444444444444444, \"#bd3786\"], [0.5555555555555556, \"#d8576b\"], [0.6666666666666666, \"#ed7953\"], [0.7777777777777778, \"#fb9f3a\"], [0.8888888888888888, \"#fdca26\"], [1.0, \"#f0f921\"]], \"type\": \"histogram2d\"}], \"histogram2dcontour\": [{\"colorbar\": {\"outlinewidth\": 0, \"ticks\": \"\"}, \"colorscale\": [[0.0, \"#0d0887\"], [0.1111111111111111, \"#46039f\"], [0.2222222222222222, \"#7201a8\"], [0.3333333333333333, \"#9c179e\"], [0.4444444444444444, \"#bd3786\"], [0.5555555555555556, \"#d8576b\"], [0.6666666666666666, \"#ed7953\"], [0.7777777777777778, \"#fb9f3a\"], [0.8888888888888888, \"#fdca26\"], [1.0, \"#f0f921\"]], \"type\": \"histogram2dcontour\"}], \"mesh3d\": [{\"colorbar\": {\"outlinewidth\": 0, \"ticks\": \"\"}, \"type\": \"mesh3d\"}], \"parcoords\": [{\"line\": {\"colorbar\": {\"outlinewidth\": 0, \"ticks\": \"\"}}, \"type\": \"parcoords\"}], \"pie\": [{\"automargin\": true, \"type\": \"pie\"}], \"scatter\": [{\"marker\": {\"colorbar\": {\"outlinewidth\": 0, \"ticks\": \"\"}}, \"type\": \"scatter\"}], \"scatter3d\": [{\"line\": {\"colorbar\": {\"outlinewidth\": 0, \"ticks\": \"\"}}, \"marker\": {\"colorbar\": {\"outlinewidth\": 0, \"ticks\": \"\"}}, \"type\": \"scatter3d\"}], \"scattercarpet\": [{\"marker\": {\"colorbar\": {\"outlinewidth\": 0, \"ticks\": \"\"}}, \"type\": \"scattercarpet\"}], \"scattergeo\": [{\"marker\": {\"colorbar\": {\"outlinewidth\": 0, \"ticks\": \"\"}}, \"type\": \"scattergeo\"}], \"scattergl\": [{\"marker\": {\"colorbar\": {\"outlinewidth\": 0, \"ticks\": \"\"}}, \"type\": \"scattergl\"}], \"scattermapbox\": [{\"marker\": {\"colorbar\": {\"outlinewidth\": 0, \"ticks\": \"\"}}, \"type\": \"scattermapbox\"}], \"scatterpolar\": [{\"marker\": {\"colorbar\": {\"outlinewidth\": 0, \"ticks\": \"\"}}, \"type\": \"scatterpolar\"}], \"scatterpolargl\": [{\"marker\": {\"colorbar\": {\"outlinewidth\": 0, \"ticks\": \"\"}}, \"type\": \"scatterpolargl\"}], \"scatterternary\": [{\"marker\": {\"colorbar\": {\"outlinewidth\": 0, \"ticks\": \"\"}}, \"type\": \"scatterternary\"}], \"surface\": [{\"colorbar\": {\"outlinewidth\": 0, \"ticks\": \"\"}, \"colorscale\": [[0.0, \"#0d0887\"], [0.1111111111111111, \"#46039f\"], [0.2222222222222222, \"#7201a8\"], [0.3333333333333333, \"#9c179e\"], [0.4444444444444444, \"#bd3786\"], [0.5555555555555556, \"#d8576b\"], [0.6666666666666666, \"#ed7953\"], [0.7777777777777778, \"#fb9f3a\"], [0.8888888888888888, \"#fdca26\"], [1.0, \"#f0f921\"]], \"type\": \"surface\"}], \"table\": [{\"cells\": {\"fill\": {\"color\": \"#EBF0F8\"}, \"line\": {\"color\": \"white\"}}, \"header\": {\"fill\": {\"color\": \"#C8D4E3\"}, \"line\": {\"color\": \"white\"}}, \"type\": \"table\"}]}, \"layout\": {\"annotationdefaults\": {\"arrowcolor\": \"#2a3f5f\", \"arrowhead\": 0, \"arrowwidth\": 1}, \"coloraxis\": {\"colorbar\": {\"outlinewidth\": 0, \"ticks\": \"\"}}, \"colorscale\": {\"diverging\": [[0, \"#8e0152\"], [0.1, \"#c51b7d\"], [0.2, \"#de77ae\"], [0.3, \"#f1b6da\"], [0.4, \"#fde0ef\"], [0.5, \"#f7f7f7\"], [0.6, \"#e6f5d0\"], [0.7, \"#b8e186\"], [0.8, \"#7fbc41\"], [0.9, \"#4d9221\"], [1, \"#276419\"]], \"sequential\": [[0.0, \"#0d0887\"], [0.1111111111111111, \"#46039f\"], [0.2222222222222222, \"#7201a8\"], [0.3333333333333333, \"#9c179e\"], [0.4444444444444444, \"#bd3786\"], [0.5555555555555556, \"#d8576b\"], [0.6666666666666666, \"#ed7953\"], [0.7777777777777778, \"#fb9f3a\"], [0.8888888888888888, \"#fdca26\"], [1.0, \"#f0f921\"]], \"sequentialminus\": [[0.0, \"#0d0887\"], [0.1111111111111111, \"#46039f\"], [0.2222222222222222, \"#7201a8\"], [0.3333333333333333, \"#9c179e\"], [0.4444444444444444, \"#bd3786\"], [0.5555555555555556, \"#d8576b\"], [0.6666666666666666, \"#ed7953\"], [0.7777777777777778, \"#fb9f3a\"], [0.8888888888888888, \"#fdca26\"], [1.0, \"#f0f921\"]]}, \"colorway\": [\"#636efa\", \"#EF553B\", \"#00cc96\", \"#ab63fa\", \"#FFA15A\", \"#19d3f3\", \"#FF6692\", \"#B6E880\", \"#FF97FF\", \"#FECB52\"], \"font\": {\"color\": \"#2a3f5f\"}, \"geo\": {\"bgcolor\": \"white\", \"lakecolor\": \"white\", \"landcolor\": \"#E5ECF6\", \"showlakes\": true, \"showland\": true, \"subunitcolor\": \"white\"}, \"hoverlabel\": {\"align\": \"left\"}, \"hovermode\": \"closest\", \"mapbox\": {\"style\": \"light\"}, \"paper_bgcolor\": \"white\", \"plot_bgcolor\": \"#E5ECF6\", \"polar\": {\"angularaxis\": {\"gridcolor\": \"white\", \"linecolor\": \"white\", \"ticks\": \"\"}, \"bgcolor\": \"#E5ECF6\", \"radialaxis\": {\"gridcolor\": \"white\", \"linecolor\": \"white\", \"ticks\": \"\"}}, \"scene\": {\"xaxis\": {\"backgroundcolor\": \"#E5ECF6\", \"gridcolor\": \"white\", \"gridwidth\": 2, \"linecolor\": \"white\", \"showbackground\": true, \"ticks\": \"\", \"zerolinecolor\": \"white\"}, \"yaxis\": {\"backgroundcolor\": \"#E5ECF6\", \"gridcolor\": \"white\", \"gridwidth\": 2, \"linecolor\": \"white\", \"showbackground\": true, \"ticks\": \"\", \"zerolinecolor\": \"white\"}, \"zaxis\": {\"backgroundcolor\": \"#E5ECF6\", \"gridcolor\": \"white\", \"gridwidth\": 2, \"linecolor\": \"white\", \"showbackground\": true, \"ticks\": \"\", \"zerolinecolor\": \"white\"}}, \"shapedefaults\": {\"line\": {\"color\": \"#2a3f5f\"}}, \"ternary\": {\"aaxis\": {\"gridcolor\": \"white\", \"linecolor\": \"white\", \"ticks\": \"\"}, \"baxis\": {\"gridcolor\": \"white\", \"linecolor\": \"white\", \"ticks\": \"\"}, \"bgcolor\": \"#E5ECF6\", \"caxis\": {\"gridcolor\": \"white\", \"linecolor\": \"white\", \"ticks\": \"\"}}, \"title\": {\"x\": 0.05}, \"xaxis\": {\"automargin\": true, \"gridcolor\": \"white\", \"linecolor\": \"white\", \"ticks\": \"\", \"title\": {\"standoff\": 15}, \"zerolinecolor\": \"white\", \"zerolinewidth\": 2}, \"yaxis\": {\"automargin\": true, \"gridcolor\": \"white\", \"linecolor\": \"white\", \"ticks\": \"\", \"title\": {\"standoff\": 15}, \"zerolinecolor\": \"white\", \"zerolinewidth\": 2}}}, \"title\": {\"text\": \"Diagrama de Bode\"}, \"xaxis\": {\"anchor\": \"y\", \"domain\": [0.0, 0.94], \"title\": {\"text\": \"Freq\\u00fc\\u00eancia em rad/s\"}, \"type\": \"log\"}, \"yaxis\": {\"anchor\": \"x\", \"domain\": [0.0, 1.0], \"title\": {\"text\": \"M\\u00f3dulo de $G(j \\\\omega)$ em dB\"}}, \"yaxis2\": {\"anchor\": \"x\", \"overlaying\": \"y\", \"side\": \"right\", \"title\": {\"text\": \"\\u00c2ngulo de G(jw)\"}}},\n",
              "                        {\"responsive\": true}\n",
              "                    ).then(function(){\n",
              "                            \n",
              "var gd = document.getElementById('a8f68dbb-a410-4032-abfc-df2f2a2e7028');\n",
              "var x = new MutationObserver(function (mutations, observer) {{\n",
              "        var display = window.getComputedStyle(gd).display;\n",
              "        if (!display || display === 'none') {{\n",
              "            console.log([gd, 'removed!']);\n",
              "            Plotly.purge(gd);\n",
              "            observer.disconnect();\n",
              "        }}\n",
              "}});\n",
              "\n",
              "// Listen for the removal of the full notebook cells\n",
              "var notebookContainer = gd.closest('#notebook-container');\n",
              "if (notebookContainer) {{\n",
              "    x.observe(notebookContainer, {childList: true});\n",
              "}}\n",
              "\n",
              "// Listen for the clearing of the current output cell\n",
              "var outputEl = gd.closest('.output');\n",
              "if (outputEl) {{\n",
              "    x.observe(outputEl, {childList: true});\n",
              "}}\n",
              "\n",
              "                        })\n",
              "                };\n",
              "                \n",
              "            </script>\n",
              "        </div>\n",
              "</body>\n",
              "</html>"
            ]
          },
          "metadata": {
            "tags": []
          }
        },
        {
          "output_type": "stream",
          "text": [
            "[   1.            1.1513954     1.32571137    1.52641797    1.75751062\n",
            "    2.02358965    2.32995181    2.6826958     3.0888436     3.55648031\n",
            "    4.09491506    4.71486636    5.42867544    6.25055193    7.19685673\n",
            "    8.28642773    9.54095476   10.98541142   12.64855217   14.56348478\n",
            "   16.76832937   19.30697729   22.22996483   25.59547923   29.47051703\n",
            "   33.93221772   39.06939937   44.98432669   51.79474679   59.63623317\n",
            "   68.6648845    79.06043211   91.0298178   104.81131342  120.67926406\n",
            "  138.94954944  159.98587196  184.20699693  212.09508879  244.20530945\n",
            "  281.1768698   323.74575428  372.75937203  429.19342601  494.17133613\n",
            "  568.9866029   655.12855686  754.31200634  868.51137375 1000.        ]\n",
            "1.526417973145698\n"
          ],
          "name": "stdout"
        },
        {
          "output_type": "display_data",
          "data": {
            "image/png": "[encoded data removed]",
            "text/plain": [
              "<Figure size 432x288 with 2 Axes>"
            ]
          },
          "metadata": {
            "tags": [],
            "needs_background": "light"
          }
        }
      ]
    }
  ]
}