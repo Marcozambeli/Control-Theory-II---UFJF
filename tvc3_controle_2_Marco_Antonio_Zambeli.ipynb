{
  "nbformat": 4,
  "nbformat_minor": 0,
  "metadata": {
    "colab": {
      "name": "tvc3 controle 2 Marco Antonio Zambeli.ipynb",
      "provenance": [],
      "authorship_tag": "ABX9TyN+jMu8apADTUiFIG8gkeIy",
      "include_colab_link": true
    },
    "kernelspec": {
      "name": "python3",
      "display_name": "Python 3"
    }
  },
  "cells": [
    {
      "cell_type": "markdown",
      "metadata": {
        "id": "view-in-github",
        "colab_type": "text"
      },
      "source": [
        "<a href=\"https://colab.research.google.com/github/Marcozambeli/Control-Theory-II---UFJF/blob/master/tvc3_controle_2_Marco_Antonio_Zambeli.ipynb\" target=\"_parent\"><img src=\"https://colab.research.google.com/assets/colab-badge.svg\" alt=\"Open In Colab\"/></a>"
      ]
    },
    {
      "cell_type": "markdown",
      "metadata": {
        "id": "ATYrMsvracvD"
      },
      "source": [
        "# Terceiro Trabalho de Teoria de Controle (Turma B) \n",
        "$Aluno: Marco Antonio  de  Oliveira Zambeli  201369026c$\n",
        "\n",
        "$Prof. André Marcato$"
      ]
    },
    {
      "cell_type": "markdown",
      "metadata": {
        "id": "3r2obJ2Aazwk"
      },
      "source": [
        "#Exemplo 7.26 Ogata (5ed)\n",
        "## projetar um compensador por avanço de fase para:\n",
        " $G(s)=\\frac{4}{s(s+2)}$\n",
        "\n",
        "###1.   Cte de erro estático (Kv) seja $20s^-(1)$\n",
        "###2.   Margem de fase de pelo menos 50º \n",
        "###3.   Margem de ganho de pelo menos 10 dB\n",
        "O programa deve receber como parametros de entrada a MF, MG e a constante de erro estático de velocidade Kv desejados e fornecer como saída os parâmetros Kc, T e alpha do controlador por avanço.\n",
        "\n",
        "\n",
        "\n",
        "\n"
      ]
    },
    {
      "cell_type": "markdown",
      "metadata": {
        "id": "7GOSsLRWc1eg"
      },
      "source": [
        "#Resolução:"
      ]
    },
    {
      "cell_type": "code",
      "metadata": {
        "colab": {
          "base_uri": "https://localhost:8080/"
        },
        "id": "JiOAWAP0Z0nG",
        "outputId": "098ce149-f6bc-4342-ba53-594a3ef55c3a"
      },
      "source": [
        "!pip install control"
      ],
      "execution_count": 1,
      "outputs": [
        {
          "output_type": "stream",
          "text": [
            "Collecting control\n",
            "\u001b[?25l  Downloading https://files.pythonhosted.org/packages/e8/b0/32a903138505dd4ea523f8a3fc156c4272aa58b10100ef24ff74ced2fae8/control-0.8.3.tar.gz (249kB)\n",
            "\r\u001b[K     |█▎                              | 10kB 17.3MB/s eta 0:00:01\r\u001b[K     |██▋                             | 20kB 18.2MB/s eta 0:00:01\r\u001b[K     |████                            | 30kB 18.4MB/s eta 0:00:01\r\u001b[K     |█████▎                          | 40kB 16.1MB/s eta 0:00:01\r\u001b[K     |██████▋                         | 51kB 16.4MB/s eta 0:00:01\r\u001b[K     |███████▉                        | 61kB 18.5MB/s eta 0:00:01\r\u001b[K     |█████████▏                      | 71kB 12.9MB/s eta 0:00:01\r\u001b[K     |██████████▌                     | 81kB 14.1MB/s eta 0:00:01\r\u001b[K     |███████████▉                    | 92kB 13.0MB/s eta 0:00:01\r\u001b[K     |█████████████▏                  | 102kB 12.8MB/s eta 0:00:01\r\u001b[K     |██████████████▍                 | 112kB 12.8MB/s eta 0:00:01\r\u001b[K     |███████████████▊                | 122kB 12.8MB/s eta 0:00:01\r\u001b[K     |█████████████████               | 133kB 12.8MB/s eta 0:00:01\r\u001b[K     |██████████████████▍             | 143kB 12.8MB/s eta 0:00:01\r\u001b[K     |███████████████████▊            | 153kB 12.8MB/s eta 0:00:01\r\u001b[K     |█████████████████████           | 163kB 12.8MB/s eta 0:00:01\r\u001b[K     |██████████████████████▎         | 174kB 12.8MB/s eta 0:00:01\r\u001b[K     |███████████████████████▋        | 184kB 12.8MB/s eta 0:00:01\r\u001b[K     |█████████████████████████       | 194kB 12.8MB/s eta 0:00:01\r\u001b[K     |██████████████████████████▎     | 204kB 12.8MB/s eta 0:00:01\r\u001b[K     |███████████████████████████▋    | 215kB 12.8MB/s eta 0:00:01\r\u001b[K     |████████████████████████████▉   | 225kB 12.8MB/s eta 0:00:01\r\u001b[K     |██████████████████████████████▏ | 235kB 12.8MB/s eta 0:00:01\r\u001b[K     |███████████████████████████████▌| 245kB 12.8MB/s eta 0:00:01\r\u001b[K     |████████████████████████████████| 256kB 12.8MB/s \n",
            "\u001b[?25hRequirement already satisfied: numpy in /usr/local/lib/python3.6/dist-packages (from control) (1.18.5)\n",
            "Requirement already satisfied: scipy in /usr/local/lib/python3.6/dist-packages (from control) (1.4.1)\n",
            "Requirement already satisfied: matplotlib in /usr/local/lib/python3.6/dist-packages (from control) (3.2.2)\n",
            "Requirement already satisfied: pyparsing!=2.0.4,!=2.1.2,!=2.1.6,>=2.0.1 in /usr/local/lib/python3.6/dist-packages (from matplotlib->control) (2.4.7)\n",
            "Requirement already satisfied: cycler>=0.10 in /usr/local/lib/python3.6/dist-packages (from matplotlib->control) (0.10.0)\n",
            "Requirement already satisfied: kiwisolver>=1.0.1 in /usr/local/lib/python3.6/dist-packages (from matplotlib->control) (1.3.1)\n",
            "Requirement already satisfied: python-dateutil>=2.1 in /usr/local/lib/python3.6/dist-packages (from matplotlib->control) (2.8.1)\n",
            "Requirement already satisfied: six in /usr/local/lib/python3.6/dist-packages (from cycler>=0.10->matplotlib->control) (1.15.0)\n",
            "Building wheels for collected packages: control\n",
            "  Building wheel for control (setup.py) ... \u001b[?25l\u001b[?25hdone\n",
            "  Created wheel for control: filename=control-0.8.3-py2.py3-none-any.whl size=260982 sha256=def3044d25eefdd85a6325d799fef9aa5413bb1df3d803d0d871299069ecc449\n",
            "  Stored in directory: /root/.cache/pip/wheels/c2/d9/cc/90b28cb139a6320a3af2285428b6da87eee8d8920c78bb0223\n",
            "Successfully built control\n",
            "Installing collected packages: control\n",
            "Successfully installed control-0.8.3\n"
          ],
          "name": "stdout"
        }
      ]
    },
    {
      "cell_type": "markdown",
      "metadata": {
        "id": "Vyr_gd88hA1V"
      },
      "source": [
        ""
      ]
    },
    {
      "cell_type": "code",
      "metadata": {
        "colab": {
          "base_uri": "https://localhost:8080/",
          "height": 470
        },
        "id": "i0JKdpMmdDlv",
        "outputId": "ccd161de-aef4-4061-bd26-7799a1e819c8"
      },
      "source": [
        "from control.matlab import *\n",
        "import numpy as np\n",
        "import sympy as sp\n",
        "import math\n",
        "\n",
        "Kv = 20\n",
        "MFref = 50\n",
        "MGref = 10 #dB\n",
        "num1 = [4]\n",
        "den1 = [1,0]\n",
        "num2 = [1]\n",
        "den2 = [1,2]\n",
        "fator1 = tf(num1,den1)\n",
        "fator2 = tf(num2, den2)\n",
        "\n",
        "gh = fator1*fator2\n",
        "\n",
        "#Ajustar o Ganho K para o requisito Kv = 20 s^(-1)\n",
        "#calculando Kv = limite para s->0 de s.Gc(s).G(s) = 20:\n",
        "sp.init_printing()\n",
        "sp.var('x')\n",
        "f = sp.Lambda(x, (x*4)/(x*(x+2)))\n",
        "Lim = sp.limit(f(x),x,0)\n",
        "\n",
        "Ganho = sp.Symbol(\"Ganho\")\n",
        "y = sp.Eq(Lim*Ganho,Kv)\n",
        "K = sp.solve(y,Ganho)\n",
        "\n",
        "#com isso, descobre-se o valor go Ganho K para atender ao criterio de Kv\n",
        "print(\"O ganho para o Kv especificado é K =\",K)\n",
        "\n",
        "#Analise da fase pelo diagrama de Bode para  função G1(s)=KG(s)\n",
        "w = np.logspace(-2,2,2000)\n",
        "num1at = [4*10]\n",
        "fator1at = tf(num1at,den1)\n",
        "gh2 = fator1at*fator2\n",
        "diag_bode2 = bode(gh2,w)\n",
        "w1 = diag_bode2[1]                     #refe-se aos angulos de bode2 em rad \n",
        "w2 = diag_bode2[2]                     #refe-se as frequencias de bode2 \n",
        "gjw_real2 = diag_bode2[0]              #refere-se aos valores modulares de bode2\n",
        "gjw_real2 = 20*np.log10(gjw_real2)     #transformando-os em dB\n",
        "\n",
        "\n",
        "i=0\n",
        "for x in gjw_real2:\n",
        "  i=i+1\n",
        "  if x < 0.32:        \n",
        "   break \n",
        "print(\"A frequencia de cruzamento do Bode em rad/s é aproximadamente:\",w2[i-1])\n",
        "angulobode2 = w1[i-1]*180/(np.pi) #transf de rad para graus\n",
        "print(\"O ângulo correspondente à freq de cruzamento de Bode é :\",angulobode2) \n",
        "\n",
        "#De posse desses valores, podemos calcular a margem de fase do ponto acima com a relaçao:\n",
        "\n",
        "mf = 180 + angulobode2 #justamente a distancia angular entre o angulo acima e 180º\n",
        "print(\"A margem de fase atual, analisada pelo Bode, é\", mf) #em graus\n",
        "\n",
        "#atendendo ao requisito do problema de uma magem de fase de 50º, vemos a diferença da mf atual até a desejada\n",
        "phimax = MFref - mf\n",
        "\n",
        "#A adiçao do compensador causa um deslocamento da freq de cruzamento para a direita, assim, por seguraça, adiciona-se 5 graus\n",
        "phimax = phimax + 5 \n",
        "print(\"O avanço max seguro é Φm \", phimax)\n",
        "\n",
        "#Calculando o fator de atenuaçao alpha pela bib sympy\n",
        "\n",
        "alfa = sp.Symbol(\"alfa\")\n",
        "y = sp.Eq((alfa+1)*math.sin(math.radians(phimax)),1-alfa)\n",
        "a = sp.solve(y,alfa)\n",
        "#print(\"alpha\",a)\n",
        "\n",
        "#valor da alteração na curva de módulo em dB em w = 1/sqrt(alfa)*T -que é a media geom entre as freq de canto-\n",
        "# em decorrencia da inclusao do termo (Ts+1)/(alpha*Ts+1)\n",
        "alpha=a[0]\n",
        "avralpha = (1/math.sqrt(alpha)) \n",
        "avralphadb = 20*np.log10(avralpha)      #transformando em dB\n",
        "\n",
        "#resolvendo a eguaçao para |G1(jw)|=- avralphadb = 6,002 dB, para achar a nova freq de cruzamento de ganho WC\n",
        "num=[4]\n",
        "den=[1, 2, 0]\n",
        "ftma_orig = tf(num,den)\n",
        "[MG, MF, w_cruz_fase, w_cruz_ganho] =margin(ftma_orig)\n",
        "[MG, MF, wc_fase, wc_ganho] = margin(avralpha*10*ftma_orig)\n",
        "print(\"nova freq de cruzamento de ganho wc é:\",wc_ganho)\n",
        "\n",
        "#Calculo do T pela relaçao: 1/T = sqrt(alpha)*wc:\n",
        "T = avralpha *(1/wc_ganho)\n",
        "\n",
        "print(\" \")\n",
        "print(\"----------------------RESPOSTAS:-----------------------\")\n",
        "print(\"a) O Ganho Kc compensador por avanço é:\",K[0]/a[0])\n",
        "print(\"b) O parametro T do compensador é:\",T)\n",
        "print(\"c) O alpha do compensador por avanço é:\",alpha)\n",
        "\n",
        "\n",
        "\n",
        "\n",
        "\n"
      ],
      "execution_count": 180,
      "outputs": [
        {
          "output_type": "stream",
          "text": [
            "O ganho para o Kv especificado é K = [10]\n",
            "A frequencia de cruzamento do Bode em rad/s é aproximadamente: 6.072837998322802\n",
            "O ângulo correspondente à freq de cruzamento de Bode é : -161.7714606015846\n",
            "A margem de fase atual, analisada pelo Bode, é 18.228539398415393\n",
            "O avanço max seguro é Φm  36.77146060158461\n",
            "nova freq de cruzamento de ganho wc é: 8.82346526884354\n",
            " \n",
            "----------------------RESPOSTAS:-----------------------\n",
            "a) O Ganho Kc compensador por avanço é: 39.8286734174998\n",
            "b) O parametro T do compensador é: 0.22618236468402012\n",
            "c) O alpha do compensador por avanço é: 0.251075397243993\n"
          ],
          "name": "stdout"
        },
        {
          "output_type": "display_data",
          "data": {
            "image/png": "[encoded data removed]",
            "text/plain": [
              "<Figure size 432x288 with 2 Axes>"
            ]
          },
          "metadata": {
            "tags": [],
            "needs_background": "light"
          }
        }
      ]
    },
    {
      "cell_type": "code",
      "metadata": {
        "id": "29RXTVueeWaY"
      },
      "source": [
        ""
      ],
      "execution_count": null,
      "outputs": []
    }
  ]
}